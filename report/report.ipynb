{
 "cells": [
  {
   "cell_type": "markdown",
   "id": "3af1bef4",
   "metadata": {},
   "source": [
    "#### 1.2.3) \n",
    "I'm using the Neumann problem to show that u(t,x,y) is a solutions to the wave equation. I'm reverting to the cos and sin form of the solution.To find $\\omega$ as a function of $c, k_x \\text{and } k_y$ we simply inject the solution into the wave equation. The last hand side then reads,\n",
    "$$\\frac{\\partial^2(cos(\\omega t)\\phi(x,y))}{\\partial t^2} = -\\omega^2(cos(\\omega t)\\phi(x,y))) = -\\omega^2 u(t, x, y)$$\n",
    "where $\\phi(x, y)$ is the spatial part of the solution. The right hand becomes,\n",
    "$$c^2\\nabla^2(cos(k_x x)cos(k_y y)\\theta(t) = c^2(\\frac{\\partial^2}{\\partial x^2} + \\frac{\\partial^2}{\\partial y^2})(cos(k_x x)cos(k_y y)\\theta(t) = -c^2(k_x^2 + k_y^2)u(t, x, y)$$\n",
    "where $\\theta(t)$ is the temporal part of the solution. Equating both sides and dividing by $-u(t, x, y)$ gives us,\n",
    "$$\\omega^2 = c^2(k_x^2 + k_y^2)$$\n",
    "$$\\implies \\omega = \\pm c \\sqrt{k_x^2 + k_y^2}$$\n",
    "This the dispersion relation, which shows that our original expression is a solution."
   ]
  },
  {
   "cell_type": "markdown",
   "id": "de2751e1",
   "metadata": {},
   "source": [
    "#### 1.2.4) \n",
    "First we define $c$ by, $C = 1/\\sqrt{2} = c\\Delta t/h \\implies c = h/\\Delta t\\sqrt{2}$. With $k_x = k_y = k$ we also get from the previous task that $\\omega = \\pm c\\sqrt{2}k$. I also set the complex number $i = \\gamma$.\n",
    "$\\newline$\n",
    "$\\newline$\n",
    "We construct the left hand of the equation first.\n",
    "$$u^{n+1}_{i,j} = u^n_{i,j}e^{-\\gamma \\tilde{\\omega}\\Delta t}$$\n",
    "$$u^{n-1}_{i,j} = u^n_{i,j}e^{\\gamma \\tilde{\\omega}\\Delta t}$$\n",
    "which makes the left hand of the equation,\n",
    "$$\\frac{u^n_{i,j}}{\\Delta t^2}(e^{\\gamma \\tilde{\\omega}\\Delta t} + e^{-\\gamma \\tilde{\\omega}\\Delta t} - 2).$$\n",
    "Then the right hand side,\n",
    "$$u^{n}_{i + 1,j} = u^{n}_{i,j + 1} = u^n_{i,j}e^{\\gamma k h}$$\n",
    "$$u^{n}_{i - 1,j} = u^{n}_{i,j - 1} = u^n_{i,j}e^{-\\gamma k h}$$\n",
    "which makes the right hand side of the equation,\n",
    "$$\\frac{2c^2}{h^2}u^n_{i,j}(e^{\\gamma k h} + e^{-\\gamma k h} - 2).$$\n",
    "If we combine the equations, removing $u^n_{i,j}$, and moving $\\Delta t$ to the other side we get,\n",
    "$$(e^{\\gamma \\tilde{\\omega}\\Delta t} + e^{-\\gamma \\tilde{\\omega}\\Delta t} - 2) = \\frac{2c^2\\Delta t^2}{h^2}(e^{\\gamma k h} + e^{-\\gamma k h} - 2) = 2C^2(e^{\\gamma k h} + e^{-\\gamma k h} - 2) = (e^{\\gamma k h} + e^{-\\gamma k h} - 2)$$\n",
    "here we used that $C = 1\\sqrt{2}$. We see from this equation that,\n",
    "$$\\tilde{\\omega} = \\pm \\frac{kh}{\\Delta t}$$\n",
    "If we know use that $c = h/\\Delta t\\sqrt{2}$ with the fact that $\\omega = \\pm c\\sqrt{2}k$ we get,\n",
    "$$\\omega = \\pm c\\sqrt{2}k = \\pm\\frac{h}{\\Delta t\\sqrt{2}}\\sqrt{2}k = \\pm \\frac{kh}{\\Delta t} = \\tilde{\\omega}$$"
   ]
  },
  {
   "cell_type": "code",
   "execution_count": null,
   "id": "eb9557ae",
   "metadata": {},
   "outputs": [],
   "source": []
  }
 ],
 "metadata": {
  "kernelspec": {
   "display_name": "Python 3",
   "language": "python",
   "name": "python3"
  },
  "language_info": {
   "codemirror_mode": {
    "name": "ipython",
    "version": 3
   },
   "file_extension": ".py",
   "mimetype": "text/x-python",
   "name": "python",
   "nbconvert_exporter": "python",
   "pygments_lexer": "ipython3",
   "version": "3.8.8"
  }
 },
 "nbformat": 4,
 "nbformat_minor": 5
}
